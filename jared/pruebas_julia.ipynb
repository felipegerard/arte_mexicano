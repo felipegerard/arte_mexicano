{
 "cells": [
  {
   "cell_type": "code",
   "execution_count": 11,
   "metadata": {
    "collapsed": false
   },
   "outputs": [
    {
     "name": "stderr",
     "output_type": "stream",
     "text": [
      "INFO: Cloning cache of Images from git://github.com/timholy/Images.jl.git\n",
      "INFO: Cloning cache of SIUnits from git://github.com/Keno/SIUnits.jl.git\n",
      "INFO: Cloning cache of TexExtensions from git://github.com/Keno/TexExtensions.jl.git\n",
      "INFO: Installing Images v0.4.40\n",
      "INFO: Installing SIUnits v0.0.4\n",
      "INFO: Installing TexExtensions v0.0.2\n",
      "INFO: Building Images\n",
      "INFO: Package database updated\n",
      "INFO: METADATA is out-of-date — you may not have the latest version of Images\n",
      "INFO: Use `Pkg.update()` to get the latest versions of your packages\n",
      "INFO: Nothing to be done\n",
      "INFO: METADATA is out-of-date — you may not have the latest version of DataFrames\n",
      "INFO: Use `Pkg.update()` to get the latest versions of your packages\n",
      "Warning: New definition \n",
      "    +(AbstractArray{T,N},DataArray{T,N}) at /home/jared/.julia/v0.3/DataArrays/src/operators.jl:326\n",
      "is ambiguous with: \n",
      "    +(AbstractImageDirect{T,N},AbstractArray{T,N}) at /home/jared/.julia/v0.3/Images/src/algorithms.jl:17.\n",
      "To fix, define \n",
      "    +(AbstractImageDirect{T,N},DataArray{T,N})\n",
      "before the new definition.\n",
      "Warning: New definition \n",
      "    +(AbstractArray{T,N},AbstractDataArray{T,N}) at /home/jared/.julia/v0.3/DataArrays/src/operators.jl:349\n",
      "is ambiguous with: \n",
      "    +(AbstractImageDirect{T,N},AbstractArray{T,N}) at /home/jared/.julia/v0.3/Images/src/algorithms.jl:17.\n",
      "To fix, define \n",
      "    +(AbstractImageDirect{T,N},AbstractDataArray{T,N})\n",
      "before the new definition.\n",
      "Warning: New definition \n",
      "    -(AbstractArray{T,N},DataArray{T,N}) at /home/jared/.julia/v0.3/DataArrays/src/operators.jl:326\n",
      "is ambiguous with: \n",
      "    -(AbstractImageDirect{T,N},AbstractArray{T,N}) at /home/jared/.julia/v0.3/Images/src/algorithms.jl:31.\n",
      "To fix, define \n",
      "    -(AbstractImageDirect{T,N},DataArray{T,N})\n",
      "before the new definition.\n",
      "Warning: New definition \n",
      "    -(AbstractArray{T,N},AbstractDataArray{T,N}) at /home/jared/.julia/v0.3/DataArrays/src/operators.jl:349\n",
      "is ambiguous with: \n",
      "    -(AbstractImageDirect{T,N},AbstractArray{T,N}) at /home/jared/.julia/v0.3/Images/src/algorithms.jl:31.\n",
      "To fix, define \n",
      "    -(AbstractImageDirect{T,N},AbstractDataArray{T,N})\n",
      "before the new definition.\n",
      "Warning: New definition \n",
      "    .*(Union(PooledDataArray{T,R<:Integer,N},DataArray{T,N}),AbstractArray{T,N}...) at /home/jared/.julia/v0.3/DataArrays/src/broadcast.jl:282\n",
      "is ambiguous with: \n",
      "    .*(AbstractArray{T,N},AbstractImageDirect{T,N}) at /home/jared/.julia/v0.3/Images/src/algorithms.jl:46.\n",
      "To fix, define \n",
      "    .*(Union(PooledDataArray{T,R<:Integer,N},DataArray{T,N}),AbstractImageDirect{T,N})\n",
      "before the new definition.\n",
      "Warning: New definition \n",
      "    .*(AbstractArray{T,N},Union(PooledDataArray{T,R<:Integer,N},DataArray{T,N}),AbstractArray{T,N}...) at /home/jared/.julia/v0.3/DataArrays/src/broadcast.jl:282\n",
      "is ambiguous with: \n",
      "    .*(AbstractImageDirect{T,N},AbstractArray{T,N}) at /home/jared/.julia/v0.3/Images/src/algorithms.jl:45.\n",
      "To fix, define \n",
      "    .*(AbstractImageDirect{T,N},Union(PooledDataArray{T,R<:Integer,N},DataArray{T,N}))\n",
      "before the new definition.\n",
      "Warning: New definition \n",
      "    .+(AbstractArray{T,N},Union(PooledDataArray{T,R<:Integer,N},DataArray{T,N}),AbstractArray{T,N}...) at /home/jared/.julia/v0.3/DataArrays/src/broadcast.jl:284\n",
      "is ambiguous with: \n",
      "    .+(AbstractImageDirect{T,N},AbstractArray{T,N}) at /home/jared/.julia/v0.3/Images/src/algorithms.jl:19.\n",
      "To fix, define \n",
      "    .+(AbstractImageDirect{T,N},Union(PooledDataArray{T,R<:Integer,N},DataArray{T,N}))\n",
      "before the new definition.\n",
      "Warning: New definition \n",
      "    .-(AbstractArray{T,N},Union(PooledDataArray{T,R<:Integer,N},DataArray{T,N})) at /home/jared/.julia/v0.3/DataArrays/src/broadcast.jl:272\n",
      "is ambiguous with: \n",
      "    .-(AbstractImageDirect{T,N},AbstractArray{T,N}) at /home/jared/.julia/v0.3/Images/src/algorithms.jl:34.\n",
      "To fix, define \n",
      "    .-(AbstractImageDirect{T,N},Union(PooledDataArray{T,R<:Integer,N},DataArray{T,N}))\n",
      "before the new definition.\n",
      "Warning: New definition \n",
      "    ./(AbstractArray{T,N},Union(PooledDataArray{T,R<:Integer,N},DataArray{T,N})) at /home/jared/.julia/v0.3/DataArrays/src/broadcast.jl:272\n",
      "is ambiguous with: \n",
      "    ./(AbstractImageDirect{T,N},AbstractArray{T,N}) at /home/jared/.julia/v0.3/Images/src/algorithms.jl:49.\n",
      "To fix, define \n",
      "    ./(AbstractImageDirect{T,N},Union(PooledDataArray{T,R<:Integer,N},DataArray{T,N}))\n",
      "before the new definition.\n",
      "Warning: New definition \n",
      "    .==(AbstractArray{Bool,N},Union(PooledDataArray{Bool,R<:Integer,N},DataArray{Bool,N})) at /home/jared/.julia/v0.3/DataArrays/src/broadcast.jl:317\n",
      "is ambiguous with: \n",
      "    .==(AbstractImageDirect{Bool,N},AbstractArray{Bool,N}) at /home/jared/.julia/v0.3/Images/src/algorithms.jl:125.\n",
      "To fix, define \n",
      "    .==(AbstractImageDirect{Bool,N},Union(PooledDataArray{Bool,R<:Integer,N},DataArray{Bool,N}))\n",
      "before the new definition.\n",
      "Warning: New definition \n",
      "    .==(AbstractArray{T,N},Union(PooledDataArray{T,R<:Integer,N},DataArray{T,N})) at /home/jared/.julia/v0.3/DataArrays/src/broadcast.jl:272\n",
      "is ambiguous with: \n",
      "    .==(AbstractImageDirect{Bool,N},AbstractArray{Bool,N}) at /home/jared/.julia/v0.3/Images/src/algorithms.jl:125.\n",
      "To fix, define \n",
      "    .==(AbstractImageDirect{Bool,N},Union(PooledDataArray{Bool,R<:Integer,N},DataArray{Bool,N}))\n",
      "before the new definition.\n",
      "Warning: New definition \n",
      "    .==(AbstractArray{T,N},Union(PooledDataArray{T,R<:Integer,N},DataArray{T,N})) at /home/jared/.julia/v0.3/DataArrays/src/broadcast.jl:272\n",
      "is ambiguous with: \n",
      "    .==(AbstractImageDirect{T,N},AbstractArray{T,N}) at /home/jared/.julia/v0.3/Images/src/algorithms.jl:126.\n",
      "To fix, define \n",
      "    .==(AbstractImageDirect{T,N},Union(PooledDataArray{T,R<:Integer,N},DataArray{T,N}))\n",
      "before the new definition.\n",
      "Warning: New definition \n",
      "    .>(AbstractArray{Bool,N},Union(PooledDataArray{Bool,R<:Integer,N},DataArray{Bool,N})) at /home/jared/.julia/v0.3/DataArrays/src/broadcast.jl:317\n",
      "is ambiguous with: \n",
      "    .>(AbstractImageDirect{T,N},AbstractArray{T,N}) at /home/jared/.julia/v0.3/Images/src/algorithms.jl:123.\n",
      "To fix, define \n",
      "    .>(AbstractImageDirect{Bool,N},Union(PooledDataArray{Bool,R<:Integer,N},DataArray{Bool,N}))\n",
      "before the new definition.\n",
      "Warning: New definition \n",
      "    .>(AbstractArray{T,N},Union(PooledDataArray{T,R<:Integer,N},DataArray{T,N})) at /home/jared/.julia/v0.3/DataArrays/src/broadcast.jl:272\n",
      "is ambiguous with: \n",
      "    .>(AbstractImageDirect{T,N},AbstractArray{T,N}) at /home/jared/.julia/v0.3/Images/src/algorithms.jl:123.\n",
      "To fix, define \n",
      "    .>(AbstractImageDirect{T,N},Union(PooledDataArray{T,R<:Integer,N},DataArray{T,N}))\n",
      "before the new definition.\n",
      "Warning: New definition \n",
      "    .<(AbstractArray{Bool,N},Union(PooledDataArray{Bool,R<:Integer,N},DataArray{Bool,N})) at /home/jared/.julia/v0.3/DataArrays/src/broadcast.jl:317\n",
      "is ambiguous with: \n",
      "    .<(AbstractImageDirect{Bool,N},AbstractArray{Bool,N}) at /home/jared/.julia/v0.3/Images/src/algorithms.jl:121.\n",
      "To fix, define \n",
      "    .<(AbstractImageDirect{Bool,N},Union(PooledDataArray{Bool,R<:Integer,N},DataArray{Bool,N}))\n",
      "before the new definition.\n",
      "Warning: New definition \n",
      "    .<(AbstractArray{T,N},Union(PooledDataArray{T,R<:Integer,N},DataArray{T,N})) at /home/jared/.julia/v0.3/DataArrays/src/broadcast.jl:272\n",
      "is ambiguous with: \n",
      "    .<(AbstractImageDirect{Bool,N},AbstractArray{Bool,N}) at /home/jared/.julia/v0.3/Images/src/algorithms.jl:121.\n",
      "To fix, define \n",
      "    .<(AbstractImageDirect{Bool,N},Union(PooledDataArray{Bool,R<:Integer,N},DataArray{Bool,N}))\n",
      "before the new definition.\n",
      "Warning: New definition \n",
      "    .<(AbstractArray{T,N},Union(PooledDataArray{T,R<:Integer,N},DataArray{T,N})) at /home/jared/.julia/v0.3/DataArrays/src/broadcast.jl:272\n",
      "is ambiguous with: \n",
      "    .<(AbstractImageDirect{T,N},AbstractArray{T,N}) at /home/jared/.julia/v0.3/Images/src/algorithms.jl:122.\n",
      "To fix, define \n",
      "    .<(AbstractImageDirect{T,N},Union(PooledDataArray{T,R<:Integer,N},DataArray{T,N}))\n",
      "before the new definition.\n"
     ]
    }
   ],
   "source": [
    "Pkg.add(\"Images\")\n",
    "Pkg.add(\"DataFrames\")\n",
    "using Images\n",
    "using DataFrames"
   ]
  },
  {
   "cell_type": "code",
   "execution_count": 10,
   "metadata": {
    "collapsed": false,
    "scrolled": true
   },
   "outputs": [
    {
     "ename": "LoadError",
     "evalue": "type IOStream has no field close\nwhile loading In[10], in expression starting on line 3",
     "output_type": "error",
     "traceback": [
      "type IOStream has no field close\nwhile loading In[10], in expression starting on line 3",
      ""
     ]
    }
   ],
   "source": [
    "f = open(\"todos_jpg.txt\")\n",
    "archivos = [readlines(f)]\n",
    "f.close()"
   ]
  },
  {
   "cell_type": "code",
   "execution_count": 94,
   "metadata": {
    "collapsed": false
   },
   "outputs": [
    {
     "data": {
      "text/plain": [
       "rgb2gray (generic function with 1 method)"
      ]
     },
     "execution_count": 94,
     "metadata": {},
     "output_type": "execute_result"
    }
   ],
   "source": [
    "function rgb2gray(rgb):\n",
    "    \"\"\"\n",
    "    Convertir a imagenes en escala de grises\n",
    "    \"\"\"\n",
    "    return B = 0.2989*rgb[:,:,1] + 0.5870*rgb[:,:,2] + 0.1140*rgb[:,:,2]\n",
    "end"
   ]
  },
  {
   "cell_type": "code",
   "execution_count": 142,
   "metadata": {
    "collapsed": false
   },
   "outputs": [
    {
     "data": {
      "text/plain": [
       "0-element Array{ASCIIString,1}"
      ]
     },
     "execution_count": 142,
     "metadata": {},
     "output_type": "execute_result"
    }
   ],
   "source": []
  },
  {
   "cell_type": "code",
   "execution_count": 155,
   "metadata": {
    "collapsed": false
   },
   "outputs": [
    {
     "data": {
      "text/plain": [
       "iden_images (generic function with 1 method)"
      ]
     },
     "execution_count": 155,
     "metadata": {},
     "output_type": "execute_result"
    }
   ],
   "source": [
    "function iden_images(e)    \n",
    "    imagenes = ASCIIString[]\n",
    "    for i = 1:e\n",
    "        img = imread(archivos[i][1:end-1])\n",
    "        B = rgb2gray(separate(img))\n",
    "        if var(B) > .05\n",
    "            push!(imagenes,archivos[i][1:end-1])\n",
    "        end\n",
    "    end\n",
    "    return imagenes\n",
    "end"
   ]
  },
  {
   "cell_type": "code",
   "execution_count": 152,
   "metadata": {
    "collapsed": false
   },
   "outputs": [
    {
     "name": "stdout",
     "output_type": "stream",
     "text": [
      "elapsed time: 593.030749793 seconds (299457349376 bytes allocated, 23.47% gc time)\n"
     ]
    },
    {
     "data": {
      "text/plain": [
       "440-element Array{ASCIIString,1}:\n",
       " \"Libros/el_hijo_del_ahuizote_tomo_i/jpg/eha-t.i-int_00000017.jpg\"                              \n",
       " \"Libros/el_hijo_del_ahuizote_tomo_i/jpg/eha-t.i-int_00000049.jpg\"                              \n",
       " \"Libros/el_hijo_del_ahuizote_tomo_i/jpg/eha-t.i-int_00000038.jpg\"                              \n",
       " \"Libros/el_hijo_del_ahuizote_tomo_i/jpg/eha-t.i-int_00000022.jpg\"                              \n",
       " \"Libros/el_hijo_del_ahuizote_tomo_i/jpg/eha-t.i-int_00000136.jpg\"                              \n",
       " \"Libros/el_hijo_del_ahuizote_tomo_i/jpg/eha-t.i-int_00000021.jpg\"                              \n",
       " \"Libros/el_hijo_del_ahuizote_tomo_i/jpg/eha-t.i-int_00000057.jpg\"                              \n",
       " \"Libros/el_hijo_del_ahuizote_tomo_i/jpg/eha-t.i-int_00000120.jpg\"                              \n",
       " \"Libros/el_hijo_del_ahuizote_tomo_i/jpg/eha-t.i-int_00000148.jpg\"                              \n",
       " \"Libros/el_hijo_del_ahuizote_tomo_i/jpg/eha-t.i-int_00000140.jpg\"                              \n",
       " \"Libros/el_hijo_del_ahuizote_tomo_i/jpg/eha-t.i-int_00000014.jpg\"                              \n",
       " \"Libros/el_hijo_del_ahuizote_tomo_i/jpg/eha-t.i-int_00000026.jpg\"                              \n",
       " \"Libros/el_hijo_del_ahuizote_tomo_i/jpg/eha-t.i-int_00000079.jpg\"                              \n",
       " ⋮                                                                                              \n",
       " \"Libros/vida_y_viajes_de_cristobal_colon_washington_irving_1851/jpg/vvcc-1851-int_00000038.jpg\"\n",
       " \"Libros/vida_y_viajes_de_cristobal_colon_washington_irving_1851/jpg/vvcc-1851-int_00000109.jpg\"\n",
       " \"Libros/vida_y_viajes_de_cristobal_colon_washington_irving_1851/jpg/vvcc-1851-int_00000041.jpg\"\n",
       " \"Libros/vida_y_viajes_de_cristobal_colon_washington_irving_1851/jpg/vvcc-1851-int_00000017.jpg\"\n",
       " \"Libros/vida_y_viajes_de_cristobal_colon_washington_irving_1851/jpg/vvcc-1851-int_00000157.jpg\"\n",
       " \"Libros/vida_y_viajes_de_cristobal_colon_washington_irving_1851/jpg/vvcc-1851-int_00000022.jpg\"\n",
       " \"Libros/vida_y_viajes_de_cristobal_colon_washington_irving_1851/jpg/vvcc-1851-int_00000193.jpg\"\n",
       " \"Libros/vida_y_viajes_de_cristobal_colon_washington_irving_1851/jpg/vvcc-1851-int_00000219.jpg\"\n",
       " \"Libros/vida_y_viajes_de_cristobal_colon_washington_irving_1851/jpg/vvcc-1851-int_00000165.jpg\"\n",
       " \"Libros/vida_y_viajes_de_cristobal_colon_washington_irving_1851/jpg/vvcc-1851-int_00000218.jpg\"\n",
       " \"Libros/vida_y_viajes_de_cristobal_colon_washington_irving_1851/jpg/vvcc-1851-int_00000204.jpg\"\n",
       " \"Libros/vida_y_viajes_de_cristobal_colon_washington_irving_1851/jpg/vvcc-1851-int_00000188.jpg\""
      ]
     },
     "execution_count": 152,
     "metadata": {},
     "output_type": "execute_result"
    }
   ],
   "source": [
    "@time iden_images(1000)"
   ]
  },
  {
   "cell_type": "code",
   "execution_count": 167,
   "metadata": {
    "collapsed": false
   },
   "outputs": [
    {
     "data": {
      "text/plain": [
       "iden_images_2 (generic function with 1 method)"
      ]
     },
     "execution_count": 167,
     "metadata": {},
     "output_type": "execute_result"
    }
   ],
   "source": [
    "function iden_images_2(archivo)\n",
    "    img = imread(archivo[1:end-1])\n",
    "    B = rgb2gray(separate(img))\n",
    "    if var(B) > .05\n",
    "        return archivo[1:end-1] \n",
    "    end\n",
    "end"
   ]
  },
  {
   "cell_type": "code",
   "execution_count": 174,
   "metadata": {
    "collapsed": false
   },
   "outputs": [
    {
     "name": "stdout",
     "output_type": "stream",
     "text": [
      "elapsed time: 26.536105334 seconds (14631727504 bytes allocated, 35.97% gc time)\n"
     ]
    },
    {
     "data": {
      "text/plain": [
       "100-element Array{Any,1}:\n",
       " nothing                                                          \n",
       " nothing                                                          \n",
       " nothing                                                          \n",
       " nothing                                                          \n",
       " \"Libros/el_hijo_del_ahuizote_tomo_i/jpg/eha-t.i-int_00000017.jpg\"\n",
       " nothing                                                          \n",
       " nothing                                                          \n",
       " nothing                                                          \n",
       " \"Libros/el_hijo_del_ahuizote_tomo_i/jpg/eha-t.i-int_00000049.jpg\"\n",
       " nothing                                                          \n",
       " \"Libros/el_hijo_del_ahuizote_tomo_i/jpg/eha-t.i-int_00000038.jpg\"\n",
       " \"Libros/el_hijo_del_ahuizote_tomo_i/jpg/eha-t.i-int_00000022.jpg\"\n",
       " \"Libros/el_hijo_del_ahuizote_tomo_i/jpg/eha-t.i-int_00000136.jpg\"\n",
       " ⋮                                                                \n",
       " nothing                                                          \n",
       " nothing                                                          \n",
       " \"Libros/el_hijo_del_ahuizote_tomo_i/jpg/eha-t.i-int_00000103.jpg\"\n",
       " \"Libros/el_hijo_del_ahuizote_tomo_i/jpg/eha-t.i-int_00000100.jpg\"\n",
       " nothing                                                          \n",
       " nothing                                                          \n",
       " nothing                                                          \n",
       " \"Libros/el_hijo_del_ahuizote_tomo_i/jpg/eha-t.i-int_00000030.jpg\"\n",
       " nothing                                                          \n",
       " nothing                                                          \n",
       " nothing                                                          \n",
       " \"Libros/el_hijo_del_ahuizote_tomo_i/jpg/eha-t.i-int_00000053.jpg\""
      ]
     },
     "execution_count": 174,
     "metadata": {},
     "output_type": "execute_result"
    }
   ],
   "source": [
    "@time prueba_imagenes = [iden_images_2(archivos[i]) for i=1:100]"
   ]
  },
  {
   "cell_type": "code",
   "execution_count": 175,
   "metadata": {
    "collapsed": false
   },
   "outputs": [
    {
     "name": "stdout",
     "output_type": "stream",
     "text": [
      "elapsed time: 26.847395341 seconds (14631731152 bytes allocated, 35.68% gc time)\n"
     ]
    },
    {
     "data": {
      "text/plain": [
       "34-element Array{ASCIIString,1}:\n",
       " \"Libros/el_hijo_del_ahuizote_tomo_i/jpg/eha-t.i-int_00000017.jpg\"\n",
       " \"Libros/el_hijo_del_ahuizote_tomo_i/jpg/eha-t.i-int_00000049.jpg\"\n",
       " \"Libros/el_hijo_del_ahuizote_tomo_i/jpg/eha-t.i-int_00000038.jpg\"\n",
       " \"Libros/el_hijo_del_ahuizote_tomo_i/jpg/eha-t.i-int_00000022.jpg\"\n",
       " \"Libros/el_hijo_del_ahuizote_tomo_i/jpg/eha-t.i-int_00000136.jpg\"\n",
       " \"Libros/el_hijo_del_ahuizote_tomo_i/jpg/eha-t.i-int_00000021.jpg\"\n",
       " \"Libros/el_hijo_del_ahuizote_tomo_i/jpg/eha-t.i-int_00000057.jpg\"\n",
       " \"Libros/el_hijo_del_ahuizote_tomo_i/jpg/eha-t.i-int_00000120.jpg\"\n",
       " \"Libros/el_hijo_del_ahuizote_tomo_i/jpg/eha-t.i-int_00000148.jpg\"\n",
       " \"Libros/el_hijo_del_ahuizote_tomo_i/jpg/eha-t.i-int_00000140.jpg\"\n",
       " \"Libros/el_hijo_del_ahuizote_tomo_i/jpg/eha-t.i-int_00000014.jpg\"\n",
       " \"Libros/el_hijo_del_ahuizote_tomo_i/jpg/eha-t.i-int_00000026.jpg\"\n",
       " \"Libros/el_hijo_del_ahuizote_tomo_i/jpg/eha-t.i-int_00000079.jpg\"\n",
       " ⋮                                                                \n",
       " \"Libros/el_hijo_del_ahuizote_tomo_i/jpg/eha-t.i-int_00000123.jpg\"\n",
       " \"Libros/el_hijo_del_ahuizote_tomo_i/jpg/eha-t.i-int_00000018.jpg\"\n",
       " \"Libros/el_hijo_del_ahuizote_tomo_i/jpg/eha-t.i-int_00000112.jpg\"\n",
       " \"Libros/el_hijo_del_ahuizote_tomo_i/jpg/eha-t.i-int_00000033.jpg\"\n",
       " \"Libros/el_hijo_del_ahuizote_tomo_i/jpg/eha-t.i-int_00000058.jpg\"\n",
       " \"Libros/el_hijo_del_ahuizote_tomo_i/jpg/eha-t.i-int_00000128.jpg\"\n",
       " \"Libros/el_hijo_del_ahuizote_tomo_i/jpg/eha-t.i-int_00000104.jpg\"\n",
       " \"Libros/el_hijo_del_ahuizote_tomo_i/jpg/eha-t.i-int_00000075.jpg\"\n",
       " \"Libros/el_hijo_del_ahuizote_tomo_i/jpg/eha-t.i-int_00000103.jpg\"\n",
       " \"Libros/el_hijo_del_ahuizote_tomo_i/jpg/eha-t.i-int_00000100.jpg\"\n",
       " \"Libros/el_hijo_del_ahuizote_tomo_i/jpg/eha-t.i-int_00000030.jpg\"\n",
       " \"Libros/el_hijo_del_ahuizote_tomo_i/jpg/eha-t.i-int_00000053.jpg\""
      ]
     },
     "execution_count": 175,
     "metadata": {},
     "output_type": "execute_result"
    }
   ],
   "source": [
    "@time iden_images(100)"
   ]
  },
  {
   "cell_type": "code",
   "execution_count": null,
   "metadata": {
    "collapsed": true
   },
   "outputs": [],
   "source": []
  }
 ],
 "metadata": {
  "kernelspec": {
   "display_name": "Julia 0.3.10",
   "language": "julia",
   "name": "julia-0.3"
  },
  "language_info": {
   "name": "julia",
   "version": "0.3.11"
  }
 },
 "nbformat": 4,
 "nbformat_minor": 0
}
