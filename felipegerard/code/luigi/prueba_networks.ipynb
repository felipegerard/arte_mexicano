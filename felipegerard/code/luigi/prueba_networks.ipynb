{
 "cells": [
  {
   "cell_type": "code",
   "execution_count": 37,
   "metadata": {
    "collapsed": true
   },
   "outputs": [],
   "source": [
    "import networkx as nx\n",
    "import pandas as pd\n",
    "from matplotlib import pyplot as plt\n",
    "%matplotlib inline"
   ]
  },
  {
   "cell_type": "code",
   "execution_count": 68,
   "metadata": {
    "collapsed": false
   },
   "outputs": [
    {
     "name": "stdout",
     "output_type": "stream",
     "text": [
      "                          from_name       sim  \\\n",
      "0  12_dibujos_de_jose_maria_velasco  1.000000   \n",
      "1  12_dibujos_de_jose_maria_velasco  0.647445   \n",
      "2    20_dibujos_mexicanos_de_maroto  1.000000   \n",
      "3    20_dibujos_mexicanos_de_maroto  0.223288   \n",
      "4                            vitral  1.000000   \n",
      "\n",
      "                            to_name  from  to  \n",
      "0  12_dibujos_de_jose_maria_velasco     0   0  \n",
      "1                          zurbaran     0   4  \n",
      "2    20_dibujos_mexicanos_de_maroto     1   1  \n",
      "3                            vitral     1   2  \n",
      "4                            vitral     2   2  \n"
     ]
    }
   ],
   "source": [
    "a = pd.read_csv('test/results/lsi-results-stopwords-spanish-3.net')\n",
    "a = a.groupby('from_name').head(2).reset_index(drop=True)\n",
    "print a.head()"
   ]
  },
  {
   "cell_type": "code",
   "execution_count": 69,
   "metadata": {
    "collapsed": true
   },
   "outputs": [],
   "source": [
    "g = nx.DiGraph()\n",
    "g.add_nodes_from(a['from_name'])\n",
    "tups = []\n",
    "for i in range(len(a)):\n",
    "    tups.append(tuple(a[['from_name','to_name']].iloc[i,:]))\n",
    "g.add_edges_from(tups, )"
   ]
  },
  {
   "cell_type": "code",
   "execution_count": 70,
   "metadata": {
    "collapsed": false
   },
   "outputs": [
    {
     "data": {
      "text/plain": [
       "['circular_layout',\n",
       " 'fruchterman_reingold_layout',\n",
       " 'graphviz_layout',\n",
       " 'layout',\n",
       " 'pydot_layout',\n",
       " 'pygraphviz_layout',\n",
       " 'random_layout',\n",
       " 'shell_layout',\n",
       " 'spectral_layout',\n",
       " 'spring_layout']"
      ]
     },
     "execution_count": 70,
     "metadata": {},
     "output_type": "execute_result"
    }
   ],
   "source": [
    "[i for i in dir(nx) if 'layout' in i]"
   ]
  },
  {
   "cell_type": "code",
   "execution_count": 33,
   "metadata": {
    "collapsed": false
   },
   "outputs": [
    {
     "data": {
      "image/png": "[encoded data removed]",
      "text/plain": [
       "<matplotlib.figure.Figure at 0x114b6b6d0>"
      ]
     },
     "metadata": {},
     "output_type": "display_data"
    }
   ],
   "source": [
    "pos = nx.layout.fruchterman_reingold_layout(g)\n",
    "nx.draw(g, pos, node_color='#00AAFF', edge_color='#0088CC')\n",
    "plt.savefig('test/results/lsi-graph-stopwords-spanish-3.png')"
   ]
  },
  {
   "cell_type": "code",
   "execution_count": null,
   "metadata": {
    "collapsed": true
   },
   "outputs": [],
   "source": []
  }
 ],
 "metadata": {
  "kernelspec": {
   "display_name": "Python 2",
   "language": "python",
   "name": "python2"
  },
  "language_info": {
   "codemirror_mode": {
    "name": "ipython",
    "version": 2
   },
   "file_extension": ".py",
   "mimetype": "text/x-python",
   "name": "python",
   "nbconvert_exporter": "python",
   "pygments_lexer": "ipython2",
   "version": "2.7.9"
  }
 },
 "nbformat": 4,
 "nbformat_minor": 0
}
